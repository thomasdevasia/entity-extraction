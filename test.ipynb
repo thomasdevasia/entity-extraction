{
 "cells": [
  {
   "attachments": {},
   "cell_type": "markdown",
   "metadata": {},
   "source": [
    "## Reading the pdf file"
   ]
  },
  {
   "cell_type": "code",
   "execution_count": 1,
   "metadata": {},
   "outputs": [],
   "source": [
    "import pypdf"
   ]
  },
  {
   "cell_type": "code",
   "execution_count": 2,
   "metadata": {},
   "outputs": [
    {
     "name": "stdout",
     "output_type": "stream",
     "text": [
      "DETAIL DES PRESTATIONS (les minutes sont exprimées en centièmes d'heures) Quantité Taux Montant\n",
      "HEURES TOTAL H.T TAUX T.V.A T.V.A TOTAL T.T.CTVA Intracommunautaire : FR18894239607ONE WORK                                                                    \n",
      "211B AVENUE CHARLES DE                \n",
      "92200      NEUILLY SUR SEINE               \n",
      "SAS au capital de 100 000 euros                             \n",
      "Garant Fin : GROUPAMA, 132 rue des 3 fontanot, Nanterre     Siret : 89423960700043 APE : 7820ZTel : 01 86 90 93 50      \n",
      "Adresse de règlement :\n",
      " \n",
      " ORLY DISTRIBUTION                                                           \n",
      "8 PLACE GASTON VIENS                  \n",
      "94310      ORLY                            \n",
      "AVOIR  Double Client : 010 110021 / CLI M S CTR -A       \n",
      "AVOIR  010/1001076sur FACTURE N° 1000980 Date  : 31/12/2022 Page 2\n"
     ]
    },
    {
     "data": {
      "text/plain": [
       "'010/1001076sur'"
      ]
     },
     "execution_count": 2,
     "metadata": {},
     "output_type": "execute_result"
    }
   ],
   "source": [
    "# read your file\n",
    "file_path = './pdfs/testPart7.pdf'\n",
    "# file_path = './pdfs/test.pdf'\n",
    "with open(file_path, 'rb') as f:\n",
    "    pdf = pypdf.PdfReader(f)\n",
    "\n",
    "    # get the first page\n",
    "    page = pdf.pages[0]\n",
    "\n",
    "    # extract text from page\n",
    "    text = page.extract_text()\n",
    "\n",
    "    # do whatever you want with extracted text\n",
    "    print(text)\n",
    "text[772:786]"
   ]
  },
  {
   "cell_type": "code",
   "execution_count": 3,
   "metadata": {},
   "outputs": [],
   "source": [
    "# nlp = spacy.blank(\"en\") \n",
    "# doc = nlp.make_doc(text)\n",
    "\n",
    "# doc.char_span(811, 829, label='test', alignment_mode=\"contract\")"
   ]
  },
  {
   "cell_type": "code",
   "execution_count": 4,
   "metadata": {},
   "outputs": [],
   "source": [
    "start = [1, 2, 3, 811, 772, 772, 772, 772, 813, 813]\n",
    "end = [1, 2, 3, 825, 786, 786, 786, 786, 824, 824]"
   ]
  },
  {
   "attachments": {},
   "cell_type": "markdown",
   "metadata": {},
   "source": [
    "## Creating dataset for the pdf file"
   ]
  },
  {
   "cell_type": "code",
   "execution_count": 5,
   "metadata": {},
   "outputs": [],
   "source": [
    "import json"
   ]
  },
  {
   "cell_type": "code",
   "execution_count": 6,
   "metadata": {},
   "outputs": [],
   "source": [
    "training_data = []\n",
    "for i in range(3, 10):\n",
    "\n",
    "    filePath = f'./pdfs/testPart{i}.pdf'\n",
    "    # print(filePath)\n",
    "    \n",
    "    with open(filePath, 'rb') as f:\n",
    "        pdf = pypdf.PdfReader(f)\n",
    "\n",
    "        # get the first page\n",
    "        page = pdf.pages[0]\n",
    "\n",
    "        # extract text from page\n",
    "        text = page.extract_text()\n",
    "\n",
    "        # print(text)\n",
    "\n",
    "        temp = {'text':text, 'entities': [(start[i], end[i], 'facture')]}\n",
    "\n",
    "        training_data.append(temp)\n",
    "\n",
    "# write to json file\n",
    "# with open('training_data.json', 'w') as f:\n",
    "#     json.dump(training_data, f)\n"
   ]
  },
  {
   "cell_type": "code",
   "execution_count": 7,
   "metadata": {},
   "outputs": [
    {
     "data": {
      "text/plain": [
       "[{'text': \"DETAIL DES PRESTATIONS (les minutes sont exprimées en centièmes d'heures) Quantité Taux Montant\\nHEURES TOTAL H.T TAUX T.V.A T.V.A TOTAL T.T.CTVA Intracommunautaire : FR18894239607ONE WORK                                                                    \\n211B AVENUE CHARLES DE                \\n92200      NEUILLY SUR SEINE               \\nSAS au capital de 100 000 euros                             \\nGarant Fin : GROUPAMA, 132 rue des 3 fontanot, Nanterre     Siret : 89423960700043 APE : 7820ZTel : 01 86 90 93 50      \\nAdresse de règlement :\\n \\n BG APPRO                                                                    \\n6 RUE DU CANAL                        \\nZAC DE LA MARINIERE                   \\n91070      BONDOUFLE                       \\nAVOIR  Double Client : 010 110007 / CLI M S CTR -A       \\nAVOIR  010/1000988sur FACTURE N° 1000770 Date  : 31/12/2022 Page 1\\n                             \\n              \\n                        \\n                                                    \\n                         \\n              \\n                \\n                                                     \\n                         \\n                                                                     \\n*T.V.A Payée sur les encaissements \\nS'agissant de prestations de services, le règlement s'effectue comptant, sans escompte, à rèception de facture. Nos tarifs sont établis sur cette base. Tout défaut de paiement à l'echeance\\nentraine à la facturation d'agios, a raison de 1% par mois de retard et éventuellement des frais de récouvrement. Tous autres modes de règlement font objet d'un accord particulier et préalable.\\nNous nous reservons le droit de modifier nos conditions de règlement sans préavis ni justification. Pour toutes contestations, les tribunaux de notre siège social sont seuls compétents.                                   \\n               Pour le règlement de cette facture : BIC : CRLYFRPP - IBAN : FR53 3000 2011 7200 0007 3268 U80\",\n",
       "  'entities': [(811, 825, 'facture')]},\n",
       " {'text': \"DETAIL DES PRESTATIONS (les minutes sont exprimées en centièmes d'heures) Quantité Taux Montant\\nHEURES TOTAL H.T TAUX T.V.A T.V.A TOTAL T.T.CTVA Intracommunautaire : FR18894239607ONE WORK                                                                    \\n211B AVENUE CHARLES DE                \\n92200      NEUILLY SUR SEINE               \\nSAS au capital de 100 000 euros                             \\nGarant Fin : GROUPAMA, 132 rue des 3 fontanot, Nanterre     Siret : 89423960700043 APE : 7820ZTel : 01 86 90 93 50      \\nAdresse de règlement :\\n \\n LECLERC ST OUEN L'AUMONE / SOD                                        \\n      27-31 RUE DES EPLUCHES                \\n95310      SAINT-OUEN-L'AUMONE             \\nAVOIR  Double Client : 010 110026 / CLI M S CTR -A       \\nAVOIR  010/1001046sur FACTURE N° 1000946 Date  : 31/12/2022 Page 1\",\n",
       "  'entities': [(772, 786, 'facture')]},\n",
       " {'text': \"DETAIL DES PRESTATIONS (les minutes sont exprimées en centièmes d'heures) Quantité Taux Montant\\nHEURES TOTAL H.T TAUX T.V.A T.V.A TOTAL T.T.CTVA Intracommunautaire : FR18894239607ONE WORK                                                                    \\n211B AVENUE CHARLES DE                \\n92200      NEUILLY SUR SEINE               \\nSAS au capital de 100 000 euros                             \\nGarant Fin : GROUPAMA, 132 rue des 3 fontanot, Nanterre     Siret : 89423960700043 APE : 7820ZTel : 01 86 90 93 50      \\nAdresse de règlement :\\n \\n ORLY DISTRIBUTION                                                           \\n8 PLACE GASTON VIENS                  \\n94310      ORLY                            \\nAVOIR  Double Client : 010 110021 / CLI M S CTR -A       \\nAVOIR  010/1001075sur FACTURE N° 1000979 Date  : 31/12/2022 Page 1\",\n",
       "  'entities': [(772, 786, 'facture')]},\n",
       " {'text': \"DETAIL DES PRESTATIONS (les minutes sont exprimées en centièmes d'heures) Quantité Taux Montant\\nHEURES TOTAL H.T TAUX T.V.A T.V.A TOTAL T.T.CTVA Intracommunautaire : FR18894239607ONE WORK                                                                    \\n211B AVENUE CHARLES DE                \\n92200      NEUILLY SUR SEINE               \\nSAS au capital de 100 000 euros                             \\nGarant Fin : GROUPAMA, 132 rue des 3 fontanot, Nanterre     Siret : 89423960700043 APE : 7820ZTel : 01 86 90 93 50      \\nAdresse de règlement :\\n \\n ORLY DISTRIBUTION                                                           \\n8 PLACE GASTON VIENS                  \\n94310      ORLY                            \\nAVOIR  Double Client : 010 110021 / CLI M S CTR -A       \\nAVOIR  010/1001076sur FACTURE N° 1000980 Date  : 31/12/2022 Page 1\\n.../...\",\n",
       "  'entities': [(772, 786, 'facture')]},\n",
       " {'text': \"DETAIL DES PRESTATIONS (les minutes sont exprimées en centièmes d'heures) Quantité Taux Montant\\nHEURES TOTAL H.T TAUX T.V.A T.V.A TOTAL T.T.CTVA Intracommunautaire : FR18894239607ONE WORK                                                                    \\n211B AVENUE CHARLES DE                \\n92200      NEUILLY SUR SEINE               \\nSAS au capital de 100 000 euros                             \\nGarant Fin : GROUPAMA, 132 rue des 3 fontanot, Nanterre     Siret : 89423960700043 APE : 7820ZTel : 01 86 90 93 50      \\nAdresse de règlement :\\n \\n ORLY DISTRIBUTION                                                           \\n8 PLACE GASTON VIENS                  \\n94310      ORLY                            \\nAVOIR  Double Client : 010 110021 / CLI M S CTR -A       \\nAVOIR  010/1001076sur FACTURE N° 1000980 Date  : 31/12/2022 Page 2\",\n",
       "  'entities': [(772, 786, 'facture')]},\n",
       " {'text': \"DETAIL DES PRESTATIONS (les minutes sont exprimées en centièmes d'heures) Quantité Taux Montant\\nHEURES TOTAL H.T TAUX T.V.A T.V.A TOTAL T.T.CTVA Intracommunautaire : FR18894239607ONE WORK                                                                    \\n211B AVENUE CHARLES DE                \\n92200      NEUILLY SUR SEINE               \\nSAS au capital de 100 000 euros                             \\nGarant Fin : GROUPAMA, 132 rue des 3 fontanot, Nanterre     Siret : 89423960700043 APE : 7820ZTel : 01 86 90 93 50      \\nAdresse de règlement :\\n \\n BG APPRO                                                                    \\n6 RUE DU CANAL                        \\nZAC DE LA MARINIERE                   \\n91070      BONDOUFLE                       \\nFACTURE  Double Client : 010 110007 / CLI M S CTR  Q     \\nFACTURE  010/1000989 Date  : 31/12/2022 Page 1\\n.../...\",\n",
       "  'entities': [(813, 824, 'facture')]},\n",
       " {'text': \"DETAIL DES PRESTATIONS (les minutes sont exprimées en centièmes d'heures) Quantité Taux Montant\\nHEURES TOTAL H.T TAUX T.V.A T.V.A TOTAL T.T.CTVA Intracommunautaire : FR18894239607ONE WORK                                                                    \\n211B AVENUE CHARLES DE                \\n92200      NEUILLY SUR SEINE               \\nSAS au capital de 100 000 euros                             \\nGarant Fin : GROUPAMA, 132 rue des 3 fontanot, Nanterre     Siret : 89423960700043 APE : 7820ZTel : 01 86 90 93 50      \\nAdresse de règlement :\\n \\n BG APPRO                                                                    \\n6 RUE DU CANAL                        \\nZAC DE LA MARINIERE                   \\n91070      BONDOUFLE                       \\nFACTURE  Double Client : 010 110007 / CLI M S CTR  Q     \\nFACTURE  010/1000989 Date  : 31/12/2022 Page 2\\n.../...\",\n",
       "  'entities': [(813, 824, 'facture')]}]"
      ]
     },
     "execution_count": 7,
     "metadata": {},
     "output_type": "execute_result"
    }
   ],
   "source": [
    "# print(training_data)\n",
    "training_data\n"
   ]
  },
  {
   "attachments": {},
   "cell_type": "markdown",
   "metadata": {},
   "source": [
    "## Changing training data to .spacy format"
   ]
  },
  {
   "cell_type": "code",
   "execution_count": 8,
   "metadata": {},
   "outputs": [],
   "source": [
    "import spacy\n",
    "from spacy.tokens import DocBin\n",
    "from tqdm import tqdm\n",
    "from spacy.util import filter_spans\n",
    "\n",
    "nlp = spacy.blank(\"en\") # load a new spacy model\n",
    "doc_bin = DocBin() # create a DocBin object"
   ]
  },
  {
   "cell_type": "code",
   "execution_count": 9,
   "metadata": {},
   "outputs": [
    {
     "name": "stderr",
     "output_type": "stream",
     "text": [
      "100%|██████████| 7/7 [00:00<00:00, 435.11it/s]\n"
     ]
    }
   ],
   "source": [
    "\n",
    "for training_example  in tqdm(training_data): \n",
    "    text = training_example['text']\n",
    "    labels = training_example['entities']\n",
    "    doc = nlp.make_doc(text)\n",
    "    ents = []\n",
    "    for start, end, label in labels:\n",
    "        span = doc.char_span(start, end, label=label, alignment_mode=\"contract\")\n",
    "        # print(span, text[start:end])\n",
    "        if span is None:\n",
    "            print(\"Skipping entity\")\n",
    "        else:\n",
    "            ents.append(span)\n",
    "    filtered_ents = filter_spans(ents)\n",
    "    doc.ents = filtered_ents \n",
    "    doc_bin.add(doc)\n",
    "\n",
    "doc_bin.to_disk(\"training_data.spacy\") # save the docbin object"
   ]
  },
  {
   "cell_type": "code",
   "execution_count": 10,
   "metadata": {},
   "outputs": [],
   "source": [
    "import spacy\n",
    "from spacy import displacy"
   ]
  },
  {
   "cell_type": "code",
   "execution_count": 11,
   "metadata": {},
   "outputs": [],
   "source": [
    "nlp = spacy.load(\"model-best\")"
   ]
  },
  {
   "cell_type": "code",
   "execution_count": 12,
   "metadata": {},
   "outputs": [
    {
     "data": {
      "text/html": [
       "<span class=\"tex2jax_ignore\"><div class=\"entities\" style=\"line-height: 2.5; direction: ltr\">DETAIL DES PRESTATIONS (les minutes sont exprimées en centièmes d'heures) Quantité Taux Montant</br>HEURES TOTAL H.T TAUX T.V.A T.V.A TOTAL T.T.CTVA Intracommunautaire : FR18894239607ONE WORK                                                                    </br>211B AVENUE CHARLES DE                </br>92200      NEUILLY SUR SEINE               </br>SAS au capital de 100 000 euros                             </br>Garant Fin : GROUPAMA, 132 rue des 3 fontanot, Nanterre     Siret : 89423960700043 APE : 7820ZTel : 01 86 90 93 50      </br>Adresse de règlement :</br> </br> BG APPRO                                                                    </br>6 RUE DU CANAL                        </br>ZAC DE LA MARINIERE                   </br>91070      BONDOUFLE                       </br>FACTURE  Double Client : 010 110007 / CLI M S CTR  Q     </br>FACTURE  \n",
       "<mark class=\"entity\" style=\"background: #ddd; padding: 0.45em 0.6em; margin: 0 0.25em; line-height: 1; border-radius: 0.35em;\">\n",
       "    010/1000989\n",
       "    <span style=\"font-size: 0.8em; font-weight: bold; line-height: 1; border-radius: 0.35em; vertical-align: middle; margin-left: 0.5rem\">facture</span>\n",
       "</mark>\n",
       " Date  : 31/12/2022 Page 3</br>Valeur en votre aimable règlement</br>par Virement                      </br>au  31/01/2023</br>*T.V.A Pay</br>S'agissant </br>entraine à </br>Nous nous </br>               P</div></span>"
      ],
      "text/plain": [
       "<IPython.core.display.HTML object>"
      ]
     },
     "metadata": {},
     "output_type": "display_data"
    }
   ],
   "source": [
    "file_path = './pdfs/testPart10.pdf'\n",
    "# file_path = './pdfs/test.pdf'\n",
    "with open(file_path, 'rb') as f:\n",
    "    pdf = pypdf.PdfReader(f)\n",
    "\n",
    "    # get the first page\n",
    "    page = pdf.pages[0]\n",
    "\n",
    "    # extract text from page\n",
    "    text = page.extract_text()\n",
    "\n",
    "doc = nlp(text)\n",
    "displacy.render(doc, style=\"ent\", jupyter=True)"
   ]
  },
  {
   "cell_type": "code",
   "execution_count": null,
   "metadata": {},
   "outputs": [],
   "source": []
  },
  {
   "cell_type": "code",
   "execution_count": null,
   "metadata": {},
   "outputs": [],
   "source": []
  },
  {
   "cell_type": "code",
   "execution_count": null,
   "metadata": {},
   "outputs": [],
   "source": []
  },
  {
   "cell_type": "code",
   "execution_count": null,
   "metadata": {},
   "outputs": [],
   "source": []
  },
  {
   "cell_type": "code",
   "execution_count": null,
   "metadata": {},
   "outputs": [],
   "source": []
  },
  {
   "cell_type": "code",
   "execution_count": null,
   "metadata": {},
   "outputs": [],
   "source": []
  },
  {
   "attachments": {},
   "cell_type": "markdown",
   "metadata": {},
   "source": [
    "## Using Spacy"
   ]
  },
  {
   "cell_type": "code",
   "execution_count": null,
   "metadata": {},
   "outputs": [],
   "source": [
    "import spacy\n",
    "from spacy import displacy\n",
    "from spacy import matcher"
   ]
  },
  {
   "cell_type": "code",
   "execution_count": null,
   "metadata": {},
   "outputs": [],
   "source": [
    "# downloding spacy small english model\n",
    "# !python -m spacy download en_core_web_sm"
   ]
  },
  {
   "cell_type": "code",
   "execution_count": null,
   "metadata": {},
   "outputs": [],
   "source": [
    "nlp = spacy.load('en_core_web_sm')\n",
    "doc = nlp(text)"
   ]
  },
  {
   "cell_type": "code",
   "execution_count": null,
   "metadata": {},
   "outputs": [],
   "source": [
    "# dispacy entity visualizer\n",
    "displacy.render(doc, style='ent', jupyter=True)"
   ]
  },
  {
   "cell_type": "code",
   "execution_count": null,
   "metadata": {},
   "outputs": [],
   "source": [
    "# method extracts bill number using spacy matcher\n",
    "def extract_bill_number(doc):\n",
    "    # define the pattern\n",
    "    pattern = [{'POS': 'PROPN'}, {'POS': 'NUM'}]\n",
    "\n",
    "    # initialize matcher with a vocab\n",
    "    Matcher = matcher(nlp.vocab)\n",
    "    Matcher.add('BILL_NUMBER', None, pattern)\n",
    "\n",
    "    # find matches in the doc\n",
    "    matches = Matcher(doc)\n",
    "    for match_id, start, end in matches:\n",
    "        span = doc[start:end]\n",
    "        return span.text"
   ]
  },
  {
   "cell_type": "code",
   "execution_count": null,
   "metadata": {},
   "outputs": [],
   "source": [
    "extract_bill_number(text)"
   ]
  },
  {
   "cell_type": "code",
   "execution_count": null,
   "metadata": {},
   "outputs": [],
   "source": [
    "# method extracts client name from text\n",
    "def extract_client_name(text):\n",
    "    doc = nlp(text)\n",
    "    res = []\n",
    "    for ent in doc.ents:\n",
    "        if ent.label_ == 'ORG':\n",
    "            res.append(ent.text)\n",
    "    return res"
   ]
  }
 ],
 "metadata": {
  "kernelspec": {
   "display_name": "base",
   "language": "python",
   "name": "python3"
  },
  "language_info": {
   "codemirror_mode": {
    "name": "ipython",
    "version": 3
   },
   "file_extension": ".py",
   "mimetype": "text/x-python",
   "name": "python",
   "nbconvert_exporter": "python",
   "pygments_lexer": "ipython3",
   "version": "3.9.13"
  },
  "orig_nbformat": 4,
  "vscode": {
   "interpreter": {
    "hash": "466db9f32c1c88b86c7f961d49ad86adda2506db7f2c7f48b3c7db2633a079c5"
   }
  }
 },
 "nbformat": 4,
 "nbformat_minor": 2
}
